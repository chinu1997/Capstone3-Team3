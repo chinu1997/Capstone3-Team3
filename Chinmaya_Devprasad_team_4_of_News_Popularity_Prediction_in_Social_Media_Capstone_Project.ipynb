{
  "nbformat": 4,
  "nbformat_minor": 0,
  "metadata": {
    "kernelspec": {
      "display_name": "Python 3",
      "language": "python",
      "name": "python3"
    },
    "language_info": {
      "codemirror_mode": {
        "name": "ipython",
        "version": 3
      },
      "file_extension": ".py",
      "mimetype": "text/x-python",
      "name": "python",
      "nbconvert_exporter": "python",
      "pygments_lexer": "ipython3",
      "version": "3.6.6"
    },
    "colab": {
      "name": "Chinmaya Devprasad team-4 of News Popularity Prediction in Social Media - Capstone Project.ipynb",
      "provenance": [],
      "collapsed_sections": [],
      "include_colab_link": true
    }
  },
  "cells": [
    {
      "cell_type": "markdown",
      "metadata": {
        "id": "view-in-github",
        "colab_type": "text"
      },
      "source": [
        "<a href=\"https://colab.research.google.com/github/chinu1997/Capstone3-Team4/blob/main/Chinmaya_Devprasad_team_4_of_News_Popularity_Prediction_in_Social_Media_Capstone_Project.ipynb\" target=\"_parent\"><img src=\"https://colab.research.google.com/assets/colab-badge.svg\" alt=\"Open In Colab\"/></a>"
      ]
    },
    {
      "cell_type": "markdown",
      "metadata": {
        "id": "tOGC-qoyhJeX"
      },
      "source": [
        "# <b><u> Project Title : Predicting the news popularity in multiple social media platforms. </u></b>"
      ]
    },
    {
      "cell_type": "markdown",
      "metadata": {
        "id": "Y06xIdG26kRF"
      },
      "source": [
        "## <b> Problem Description </b>\n",
        "\n",
        "### This is a large data set of news items and their respective social feedback on multiple platforms: Facebook, Google+ and LinkedIn.The collected data relates to a period of 8 months, between November 2015 and July 2016, accounting for about 100,000 news items on four different topics: Economy, Microsoft, Obama and Palestine.\n"
      ]
    },
    {
      "cell_type": "markdown",
      "metadata": {
        "id": "AlLxAtlziMbP"
      },
      "source": [
        "## <b> Data Description </b>\r\n",
        "\r\n",
        "### <b>Attribute Information: </b>\r\n",
        "\r\n",
        "* ### IDLink (numeric): Unique identifier of news items\r\n",
        "* ### Title (string): Title of the news item according to the official media sources\r\n",
        "* ### Headline (string): Headline of the news item according to the official media sources\r\n",
        "* ### Source (string): Original news outlet that published the news item\r\n",
        "* ### Topic (string): Query topic used to obtain the items in the official media sources\r\n",
        "* ### PublishDate (timestamp): Date and time of the news items' publication\r\n",
        "* ### SentimentTitle (numeric): Sentiment score of the text in the news items' title\r\n",
        "* ### SentimentHeadline (numeric): Sentiment score of the text in the news items' headline\r\n",
        "* ### Facebook (numeric): Final value of the news items' popularity according to the social media source Facebook\r\n",
        "* ### GooglePlus (numeric): Final value of the news items' popularity according to the social media source Google+\r\n",
        "* ### LinkedIn (numeric): Final value of the news items' popularity according to the social media source LinkedIn\r\n",
        "\r\n",
        "\r\n",
        "### VARIABLES OF SOCIAL FEEDBACK DATA\r\n",
        "\r\n",
        "* ### IDLink (numeric): Unique identifier of news items\r\n",
        "* ### TS1 (numeric): Level of popularity in time slice 1 (0-20 minutes upon publication)\r\n",
        "* ### TS2 (numeric): Level of popularity in time slice 2 (20-40 minutes upon publication)\r\n",
        "* ### TS... (numeric): Level of popularity in time slice ...\r\n",
        "* ### TS144 (numeric): Final level of popularity after 2 days upon publication"
      ]
    },
    {
      "cell_type": "code",
      "metadata": {
        "id": "dByMsuzT8Tnw",
        "colab": {
          "base_uri": "https://localhost:8080/"
        },
        "outputId": "4e7f1068-0512-4f77-9d96-3ab8669c380b"
      },
      "source": [
        "import pandas as pd\r\n",
        "import numpy as np\r\n",
        "import matplotlib.pyplot as plt\r\n",
        "import seaborn as sns\r\n",
        "%matplotlib inline\r\n",
        "import math\r\n",
        "import nltk\r\n",
        "nltk.download('stopwords')\r\n",
        "from sklearn.pipeline import Pipeline\r\n",
        "from sklearn.metrics import classification_report,confusion_matrix\r\n",
        "import string\r\n",
        "from nltk.corpus import stopwords\r\n",
        "from sklearn.linear_model import LinearRegression\r\n",
        "from sklearn.ensemble import RandomForestRegressor\r\n",
        "from spacy.lang.en import English\r\n",
        "from spacy.lang.en.stop_words import STOP_WORDS\r\n",
        "from sklearn.decomposition import PCA\r\n",
        "from sklearn.metrics import r2_score\r\n",
        "from sklearn.metrics import mean_squared_error\r\n",
        "from sklearn.metrics import mean_absolute_error\r\n",
        "from sklearn.model_selection import train_test_split\r\n",
        "from sklearn.feature_extraction.text import TfidfVectorizer"
      ],
      "execution_count": 41,
      "outputs": [
        {
          "output_type": "stream",
          "text": [
            "[nltk_data] Downloading package stopwords to /root/nltk_data...\n",
            "[nltk_data]   Package stopwords is already up-to-date!\n"
          ],
          "name": "stdout"
        }
      ]
    },
    {
      "cell_type": "code",
      "metadata": {
        "colab": {
          "base_uri": "https://localhost:8080/"
        },
        "id": "gWEi7unz_Amv",
        "outputId": "659cf5fe-8c66-41ab-e2e6-8f5b2647236f"
      },
      "source": [
        "from google.colab import drive\n",
        "drive.mount('/content/drive')"
      ],
      "execution_count": 2,
      "outputs": [
        {
          "output_type": "stream",
          "text": [
            "Mounted at /content/drive\n"
          ],
          "name": "stdout"
        }
      ]
    },
    {
      "cell_type": "code",
      "metadata": {
        "id": "A4Li4us6_TFx"
      },
      "source": [
        "news_df=pd.read_csv(\"/content/drive/MyDrive/Almabetter/Cohort Aravali/Module 4/Capstone-3 /Copy of News_Final.csv\")"
      ],
      "execution_count": 3,
      "outputs": []
    },
    {
      "cell_type": "code",
      "metadata": {
        "colab": {
          "base_uri": "https://localhost:8080/"
        },
        "id": "xuzbeGGMAZwf",
        "outputId": "de53286d-8045-4767-b111-339d0dd1c56e"
      },
      "source": [
        "news_df.shape"
      ],
      "execution_count": 4,
      "outputs": [
        {
          "output_type": "execute_result",
          "data": {
            "text/plain": [
              "(93239, 11)"
            ]
          },
          "metadata": {
            "tags": []
          },
          "execution_count": 4
        }
      ]
    },
    {
      "cell_type": "code",
      "metadata": {
        "colab": {
          "base_uri": "https://localhost:8080/",
          "height": 374
        },
        "id": "FJGvonUW_mr1",
        "outputId": "12e8ad18-fa63-49be-b8cb-562a6385afd3"
      },
      "source": [
        "news_df.head()"
      ],
      "execution_count": 5,
      "outputs": [
        {
          "output_type": "execute_result",
          "data": {
            "text/html": [
              "<div>\n",
              "<style scoped>\n",
              "    .dataframe tbody tr th:only-of-type {\n",
              "        vertical-align: middle;\n",
              "    }\n",
              "\n",
              "    .dataframe tbody tr th {\n",
              "        vertical-align: top;\n",
              "    }\n",
              "\n",
              "    .dataframe thead th {\n",
              "        text-align: right;\n",
              "    }\n",
              "</style>\n",
              "<table border=\"1\" class=\"dataframe\">\n",
              "  <thead>\n",
              "    <tr style=\"text-align: right;\">\n",
              "      <th></th>\n",
              "      <th>IDLink</th>\n",
              "      <th>Title</th>\n",
              "      <th>Headline</th>\n",
              "      <th>Source</th>\n",
              "      <th>Topic</th>\n",
              "      <th>PublishDate</th>\n",
              "      <th>SentimentTitle</th>\n",
              "      <th>SentimentHeadline</th>\n",
              "      <th>Facebook</th>\n",
              "      <th>GooglePlus</th>\n",
              "      <th>LinkedIn</th>\n",
              "    </tr>\n",
              "  </thead>\n",
              "  <tbody>\n",
              "    <tr>\n",
              "      <th>0</th>\n",
              "      <td>99248.0</td>\n",
              "      <td>Obama Lays Wreath at Arlington National Cemetery</td>\n",
              "      <td>Obama Lays Wreath at Arlington National Cemete...</td>\n",
              "      <td>USA TODAY</td>\n",
              "      <td>obama</td>\n",
              "      <td>2002-04-02 00:00:00</td>\n",
              "      <td>0.000000</td>\n",
              "      <td>-0.053300</td>\n",
              "      <td>-1</td>\n",
              "      <td>-1</td>\n",
              "      <td>-1</td>\n",
              "    </tr>\n",
              "    <tr>\n",
              "      <th>1</th>\n",
              "      <td>10423.0</td>\n",
              "      <td>A Look at the Health of the Chinese Economy</td>\n",
              "      <td>Tim Haywood, investment director business-unit...</td>\n",
              "      <td>Bloomberg</td>\n",
              "      <td>economy</td>\n",
              "      <td>2008-09-20 00:00:00</td>\n",
              "      <td>0.208333</td>\n",
              "      <td>-0.156386</td>\n",
              "      <td>-1</td>\n",
              "      <td>-1</td>\n",
              "      <td>-1</td>\n",
              "    </tr>\n",
              "    <tr>\n",
              "      <th>2</th>\n",
              "      <td>18828.0</td>\n",
              "      <td>Nouriel Roubini: Global Economy Not Back to 2008</td>\n",
              "      <td>Nouriel Roubini, NYU professor and chairman at...</td>\n",
              "      <td>Bloomberg</td>\n",
              "      <td>economy</td>\n",
              "      <td>2012-01-28 00:00:00</td>\n",
              "      <td>-0.425210</td>\n",
              "      <td>0.139754</td>\n",
              "      <td>-1</td>\n",
              "      <td>-1</td>\n",
              "      <td>-1</td>\n",
              "    </tr>\n",
              "    <tr>\n",
              "      <th>3</th>\n",
              "      <td>27788.0</td>\n",
              "      <td>Finland GDP Expands In Q4</td>\n",
              "      <td>Finland's economy expanded marginally in the t...</td>\n",
              "      <td>RTT News</td>\n",
              "      <td>economy</td>\n",
              "      <td>2015-03-01 00:06:00</td>\n",
              "      <td>0.000000</td>\n",
              "      <td>0.026064</td>\n",
              "      <td>-1</td>\n",
              "      <td>-1</td>\n",
              "      <td>-1</td>\n",
              "    </tr>\n",
              "    <tr>\n",
              "      <th>4</th>\n",
              "      <td>27789.0</td>\n",
              "      <td>Tourism, govt spending buoys Thai economy in J...</td>\n",
              "      <td>Tourism and public spending continued to boost...</td>\n",
              "      <td>The Nation - Thailand&amp;#39;s English news</td>\n",
              "      <td>economy</td>\n",
              "      <td>2015-03-01 00:11:00</td>\n",
              "      <td>0.000000</td>\n",
              "      <td>0.141084</td>\n",
              "      <td>-1</td>\n",
              "      <td>-1</td>\n",
              "      <td>-1</td>\n",
              "    </tr>\n",
              "  </tbody>\n",
              "</table>\n",
              "</div>"
            ],
            "text/plain": [
              "    IDLink  ... LinkedIn\n",
              "0  99248.0  ...       -1\n",
              "1  10423.0  ...       -1\n",
              "2  18828.0  ...       -1\n",
              "3  27788.0  ...       -1\n",
              "4  27789.0  ...       -1\n",
              "\n",
              "[5 rows x 11 columns]"
            ]
          },
          "metadata": {
            "tags": []
          },
          "execution_count": 5
        }
      ]
    },
    {
      "cell_type": "markdown",
      "metadata": {
        "id": "EbERQffrL7fy"
      },
      "source": [
        ""
      ]
    },
    {
      "cell_type": "code",
      "metadata": {
        "colab": {
          "base_uri": "https://localhost:8080/"
        },
        "id": "8Dw20pyZL8x_",
        "outputId": "b0634233-c3ec-45b4-e198-67bab5a74f2a"
      },
      "source": [
        "news_df['Source'].value_counts()"
      ],
      "execution_count": 6,
      "outputs": [
        {
          "output_type": "execute_result",
          "data": {
            "text/plain": [
              "Bloomberg                        1732\n",
              "Reuters                          1321\n",
              "ABC News                         1098\n",
              "New York Times                    992\n",
              "The Guardian                      933\n",
              "                                 ... \n",
              "Chicago Inno                        1\n",
              "Thelakeandeswave                    1\n",
              "PC PowerPlay                        1\n",
              "Richmond County Daily Journal       1\n",
              "Agenda.ge                           1\n",
              "Name: Source, Length: 5756, dtype: int64"
            ]
          },
          "metadata": {
            "tags": []
          },
          "execution_count": 6
        }
      ]
    },
    {
      "cell_type": "code",
      "metadata": {
        "id": "GdQEDk9XczUs"
      },
      "source": [
        "news_df.dropna(inplace=True,axis=0)"
      ],
      "execution_count": 7,
      "outputs": []
    },
    {
      "cell_type": "code",
      "metadata": {
        "colab": {
          "base_uri": "https://localhost:8080/"
        },
        "id": "YC1_YjR4_pgx",
        "outputId": "1595fc9a-70de-4037-b435-475fb829ae67"
      },
      "source": [
        "news_df.isnull().sum()"
      ],
      "execution_count": 8,
      "outputs": [
        {
          "output_type": "execute_result",
          "data": {
            "text/plain": [
              "IDLink               0\n",
              "Title                0\n",
              "Headline             0\n",
              "Source               0\n",
              "Topic                0\n",
              "PublishDate          0\n",
              "SentimentTitle       0\n",
              "SentimentHeadline    0\n",
              "Facebook             0\n",
              "GooglePlus           0\n",
              "LinkedIn             0\n",
              "dtype: int64"
            ]
          },
          "metadata": {
            "tags": []
          },
          "execution_count": 8
        }
      ]
    },
    {
      "cell_type": "code",
      "metadata": {
        "colab": {
          "base_uri": "https://localhost:8080/"
        },
        "id": "Pcw5-hYpAE6L",
        "outputId": "8b862f64-9532-4ed1-899b-4252c28c083f"
      },
      "source": [
        "news_df.info()"
      ],
      "execution_count": 9,
      "outputs": [
        {
          "output_type": "stream",
          "text": [
            "<class 'pandas.core.frame.DataFrame'>\n",
            "Int64Index: 92945 entries, 0 to 93238\n",
            "Data columns (total 11 columns):\n",
            " #   Column             Non-Null Count  Dtype  \n",
            "---  ------             --------------  -----  \n",
            " 0   IDLink             92945 non-null  float64\n",
            " 1   Title              92945 non-null  object \n",
            " 2   Headline           92945 non-null  object \n",
            " 3   Source             92945 non-null  object \n",
            " 4   Topic              92945 non-null  object \n",
            " 5   PublishDate        92945 non-null  object \n",
            " 6   SentimentTitle     92945 non-null  float64\n",
            " 7   SentimentHeadline  92945 non-null  float64\n",
            " 8   Facebook           92945 non-null  int64  \n",
            " 9   GooglePlus         92945 non-null  int64  \n",
            " 10  LinkedIn           92945 non-null  int64  \n",
            "dtypes: float64(3), int64(3), object(5)\n",
            "memory usage: 8.5+ MB\n"
          ],
          "name": "stdout"
        }
      ]
    },
    {
      "cell_type": "code",
      "metadata": {
        "colab": {
          "base_uri": "https://localhost:8080/",
          "height": 282
        },
        "id": "TdqFFWFvEWAa",
        "outputId": "ead9a220-8419-44dc-c15f-563eb11d8eac"
      },
      "source": [
        "news_df['Topic'].value_counts().plot(kind='barh',grid=True)"
      ],
      "execution_count": 10,
      "outputs": [
        {
          "output_type": "execute_result",
          "data": {
            "text/plain": [
              "<matplotlib.axes._subplots.AxesSubplot at 0x7fa05289ce80>"
            ]
          },
          "metadata": {
            "tags": []
          },
          "execution_count": 10
        },
        {
          "output_type": "display_data",
          "data": {
            "image/png": "[encoded data removed]",
            "text/plain": [
              "<Figure size 432x288 with 1 Axes>"
            ]
          },
          "metadata": {
            "tags": [],
            "needs_background": "light"
          }
        }
      ]
    },
    {
      "cell_type": "code",
      "metadata": {
        "id": "fIKdZ0T8Fapm",
        "colab": {
          "base_uri": "https://localhost:8080/",
          "height": 590
        },
        "outputId": "e9ca1c71-f9ac-4aab-ddcf-e3825266a25b"
      },
      "source": [
        "plt.figure(figsize=(10,8))\r\n",
        "sns.heatmap(data=news_df.corr(),cmap='coolwarm',annot=True)"
      ],
      "execution_count": 11,
      "outputs": [
        {
          "output_type": "execute_result",
          "data": {
            "text/plain": [
              "<matplotlib.axes._subplots.AxesSubplot at 0x7fa0527cdd30>"
            ]
          },
          "metadata": {
            "tags": []
          },
          "execution_count": 11
        },
        {
          "output_type": "display_data",
          "data": {
            "image/png": "[encoded data removed]",
            "text/plain": [
              "<Figure size 720x576 with 2 Axes>"
            ]
          },
          "metadata": {
            "tags": [],
            "needs_background": "light"
          }
        }
      ]
    },
    {
      "cell_type": "code",
      "metadata": {
        "colab": {
          "base_uri": "https://localhost:8080/",
          "height": 441
        },
        "id": "fklNG4JOGDrU",
        "outputId": "ec9774c7-9951-4459-930c-2ea89210c5e6"
      },
      "source": [
        "sns.jointplot(x='SentimentTitle',y='SentimentHeadline',data=news_df,kind = 'reg')\r\n",
        "plt.show()"
      ],
      "execution_count": 12,
      "outputs": [
        {
          "output_type": "display_data",
          "data": {
            "image/png": "[encoded data removed]",
            "text/plain": [
              "<Figure size 432x432 with 3 Axes>"
            ]
          },
          "metadata": {
            "tags": [],
            "needs_background": "light"
          }
        }
      ]
    },
    {
      "cell_type": "code",
      "metadata": {
        "colab": {
          "base_uri": "https://localhost:8080/",
          "height": 374
        },
        "id": "lFnHMkKuoCf4",
        "outputId": "639f3572-12cc-4c63-a38a-f2cda451da50"
      },
      "source": [
        "news_df.head()"
      ],
      "execution_count": 13,
      "outputs": [
        {
          "output_type": "execute_result",
          "data": {
            "text/html": [
              "<div>\n",
              "<style scoped>\n",
              "    .dataframe tbody tr th:only-of-type {\n",
              "        vertical-align: middle;\n",
              "    }\n",
              "\n",
              "    .dataframe tbody tr th {\n",
              "        vertical-align: top;\n",
              "    }\n",
              "\n",
              "    .dataframe thead th {\n",
              "        text-align: right;\n",
              "    }\n",
              "</style>\n",
              "<table border=\"1\" class=\"dataframe\">\n",
              "  <thead>\n",
              "    <tr style=\"text-align: right;\">\n",
              "      <th></th>\n",
              "      <th>IDLink</th>\n",
              "      <th>Title</th>\n",
              "      <th>Headline</th>\n",
              "      <th>Source</th>\n",
              "      <th>Topic</th>\n",
              "      <th>PublishDate</th>\n",
              "      <th>SentimentTitle</th>\n",
              "      <th>SentimentHeadline</th>\n",
              "      <th>Facebook</th>\n",
              "      <th>GooglePlus</th>\n",
              "      <th>LinkedIn</th>\n",
              "    </tr>\n",
              "  </thead>\n",
              "  <tbody>\n",
              "    <tr>\n",
              "      <th>0</th>\n",
              "      <td>99248.0</td>\n",
              "      <td>Obama Lays Wreath at Arlington National Cemetery</td>\n",
              "      <td>Obama Lays Wreath at Arlington National Cemete...</td>\n",
              "      <td>USA TODAY</td>\n",
              "      <td>obama</td>\n",
              "      <td>2002-04-02 00:00:00</td>\n",
              "      <td>0.000000</td>\n",
              "      <td>-0.053300</td>\n",
              "      <td>-1</td>\n",
              "      <td>-1</td>\n",
              "      <td>-1</td>\n",
              "    </tr>\n",
              "    <tr>\n",
              "      <th>1</th>\n",
              "      <td>10423.0</td>\n",
              "      <td>A Look at the Health of the Chinese Economy</td>\n",
              "      <td>Tim Haywood, investment director business-unit...</td>\n",
              "      <td>Bloomberg</td>\n",
              "      <td>economy</td>\n",
              "      <td>2008-09-20 00:00:00</td>\n",
              "      <td>0.208333</td>\n",
              "      <td>-0.156386</td>\n",
              "      <td>-1</td>\n",
              "      <td>-1</td>\n",
              "      <td>-1</td>\n",
              "    </tr>\n",
              "    <tr>\n",
              "      <th>2</th>\n",
              "      <td>18828.0</td>\n",
              "      <td>Nouriel Roubini: Global Economy Not Back to 2008</td>\n",
              "      <td>Nouriel Roubini, NYU professor and chairman at...</td>\n",
              "      <td>Bloomberg</td>\n",
              "      <td>economy</td>\n",
              "      <td>2012-01-28 00:00:00</td>\n",
              "      <td>-0.425210</td>\n",
              "      <td>0.139754</td>\n",
              "      <td>-1</td>\n",
              "      <td>-1</td>\n",
              "      <td>-1</td>\n",
              "    </tr>\n",
              "    <tr>\n",
              "      <th>3</th>\n",
              "      <td>27788.0</td>\n",
              "      <td>Finland GDP Expands In Q4</td>\n",
              "      <td>Finland's economy expanded marginally in the t...</td>\n",
              "      <td>RTT News</td>\n",
              "      <td>economy</td>\n",
              "      <td>2015-03-01 00:06:00</td>\n",
              "      <td>0.000000</td>\n",
              "      <td>0.026064</td>\n",
              "      <td>-1</td>\n",
              "      <td>-1</td>\n",
              "      <td>-1</td>\n",
              "    </tr>\n",
              "    <tr>\n",
              "      <th>4</th>\n",
              "      <td>27789.0</td>\n",
              "      <td>Tourism, govt spending buoys Thai economy in J...</td>\n",
              "      <td>Tourism and public spending continued to boost...</td>\n",
              "      <td>The Nation - Thailand&amp;#39;s English news</td>\n",
              "      <td>economy</td>\n",
              "      <td>2015-03-01 00:11:00</td>\n",
              "      <td>0.000000</td>\n",
              "      <td>0.141084</td>\n",
              "      <td>-1</td>\n",
              "      <td>-1</td>\n",
              "      <td>-1</td>\n",
              "    </tr>\n",
              "  </tbody>\n",
              "</table>\n",
              "</div>"
            ],
            "text/plain": [
              "    IDLink  ... LinkedIn\n",
              "0  99248.0  ...       -1\n",
              "1  10423.0  ...       -1\n",
              "2  18828.0  ...       -1\n",
              "3  27788.0  ...       -1\n",
              "4  27789.0  ...       -1\n",
              "\n",
              "[5 rows x 11 columns]"
            ]
          },
          "metadata": {
            "tags": []
          },
          "execution_count": 13
        }
      ]
    },
    {
      "cell_type": "code",
      "metadata": {
        "id": "tpT-ASk8ooZz"
      },
      "source": [
        "news_df['Text']=news_df['Title']+news_df['Headline']"
      ],
      "execution_count": 14,
      "outputs": []
    },
    {
      "cell_type": "code",
      "metadata": {
        "id": "AhdFgsQqa4tW"
      },
      "source": [
        "def Change_text(msg):\r\n",
        "  punc=[char for char in msg if char not in string.punctuation]\r\n",
        "  no_punc=''.join(punc)\r\n",
        "  main_text=[word for word in no_punc.split() if word.lower() not in stopwords.words('english')]\r\n",
        "  return ' '.join(main_text)"
      ],
      "execution_count": 15,
      "outputs": []
    },
    {
      "cell_type": "code",
      "metadata": {
        "id": "0zPGLIoYdvuy"
      },
      "source": [
        "news_df['token_text']=news_df['Text'].apply(Change_text)\r\n"
      ],
      "execution_count": 16,
      "outputs": []
    },
    {
      "cell_type": "markdown",
      "metadata": {
        "id": "PVeTsNnqqjW1"
      },
      "source": [
        "# **Linear Regression** "
      ]
    },
    {
      "cell_type": "markdown",
      "metadata": {
        "id": "E5988ncSrGuT"
      },
      "source": [
        "# **On Facebook** "
      ]
    },
    {
      "cell_type": "code",
      "metadata": {
        "id": "FexjrV3osULR"
      },
      "source": [
        "X=news_df['token_text']\r\n",
        "Y=news_df['Facebook']\r\n",
        "\r\n",
        "X_train,X_test,Y_train,Y_test=train_test_split(X,Y,test_size=0.2)"
      ],
      "execution_count": 17,
      "outputs": []
    },
    {
      "cell_type": "code",
      "metadata": {
        "id": "mCEzmQktv5Cm"
      },
      "source": [
        "vector=TfidfVectorizer(max_df = 0.8,min_df = 8)"
      ],
      "execution_count": 18,
      "outputs": []
    },
    {
      "cell_type": "code",
      "metadata": {
        "id": "wKu8d89qstDW",
        "colab": {
          "base_uri": "https://localhost:8080/"
        },
        "outputId": "852a7fc9-5bc2-4271-afe0-1c6897ce1ce0"
      },
      "source": [
        "model=LinearRegression()\r\n",
        "pipe_title = Pipeline([('vectorizer', vector),\r\n",
        "                     ('regressor', model)])\r\n",
        "pipe_title.fit(X_train,Y_train)"
      ],
      "execution_count": 19,
      "outputs": [
        {
          "output_type": "execute_result",
          "data": {
            "text/plain": [
              "Pipeline(memory=None,\n",
              "         steps=[('vectorizer',\n",
              "                 TfidfVectorizer(analyzer='word', binary=False,\n",
              "                                 decode_error='strict',\n",
              "                                 dtype=<class 'numpy.float64'>,\n",
              "                                 encoding='utf-8', input='content',\n",
              "                                 lowercase=True, max_df=0.8, max_features=None,\n",
              "                                 min_df=8, ngram_range=(1, 1), norm='l2',\n",
              "                                 preprocessor=None, smooth_idf=True,\n",
              "                                 stop_words=None, strip_accents=None,\n",
              "                                 sublinear_tf=False,\n",
              "                                 token_pattern='(?u)\\\\b\\\\w\\\\w+\\\\b',\n",
              "                                 tokenizer=None, use_idf=True,\n",
              "                                 vocabulary=None)),\n",
              "                ('regressor',\n",
              "                 LinearRegression(copy_X=True, fit_intercept=True, n_jobs=None,\n",
              "                                  normalize=False))],\n",
              "         verbose=False)"
            ]
          },
          "metadata": {
            "tags": []
          },
          "execution_count": 19
        }
      ]
    },
    {
      "cell_type": "code",
      "metadata": {
        "id": "CKGuOWDJntPI"
      },
      "source": [
        "test_pred_text=pipe_title.predict(X_test)"
      ],
      "execution_count": 20,
      "outputs": []
    },
    {
      "cell_type": "code",
      "metadata": {
        "id": "MY2L0pcbstcU"
      },
      "source": [
        "def print_metrics(actual, predicted):\r\n",
        "  print('MSE is {}'.format(mean_squared_error(actual, predicted)))\r\n",
        "  print('RMSE is {}'.format(math.sqrt(mean_squared_error(actual, predicted))))\r\n",
        "  print('r2 score is {}'.format(r2_score(actual, predicted)))\r\n",
        "  print('MAE is {}'.format(mean_absolute_error(actual, predicted)))\r\n",
        "  print('MAPE is {}'.format(np.mean(np.abs((actual - predicted) / actual)) * 100))"
      ],
      "execution_count": 21,
      "outputs": []
    },
    {
      "cell_type": "code",
      "metadata": {
        "colab": {
          "base_uri": "https://localhost:8080/"
        },
        "id": "3u5IsEOwnrc1",
        "outputId": "03e6f7e0-3bff-4a05-9b67-200024efed95"
      },
      "source": [
        "print_metrics(Y_test,test_pred_text)"
      ],
      "execution_count": 22,
      "outputs": [
        {
          "output_type": "stream",
          "text": [
            "MSE is 422126.03507856163\n",
            "RMSE is 649.7122709927538\n",
            "r2 score is -0.1594327118754868\n",
            "MAE is 277.9330093781675\n",
            "MAPE is inf\n"
          ],
          "name": "stdout"
        }
      ]
    },
    {
      "cell_type": "markdown",
      "metadata": {
        "id": "wA3Eh4PUq-HU"
      },
      "source": [
        "# **On Linkedin**"
      ]
    },
    {
      "cell_type": "code",
      "metadata": {
        "id": "P-sQVClKrY9r"
      },
      "source": [
        "X=news_df['token_text']\r\n",
        "Y=news_df['LinkedIn']\r\n",
        "\r\n",
        "X_train,X_test,Y_train,Y_test=train_test_split(X,Y,test_size=0.2)"
      ],
      "execution_count": 23,
      "outputs": []
    },
    {
      "cell_type": "code",
      "metadata": {
        "colab": {
          "base_uri": "https://localhost:8080/"
        },
        "id": "NII8KxuwrZgT",
        "outputId": "41e1000a-569a-4fbf-cea1-c99aea5dc6f3"
      },
      "source": [
        "model=LinearRegression()\r\n",
        "pipe_title = Pipeline([('vectorizer', vector),\r\n",
        "                     ('regressor', model)])\r\n",
        "pipe_title.fit(X_train,Y_train)"
      ],
      "execution_count": 24,
      "outputs": [
        {
          "output_type": "execute_result",
          "data": {
            "text/plain": [
              "Pipeline(memory=None,\n",
              "         steps=[('vectorizer',\n",
              "                 TfidfVectorizer(analyzer='word', binary=False,\n",
              "                                 decode_error='strict',\n",
              "                                 dtype=<class 'numpy.float64'>,\n",
              "                                 encoding='utf-8', input='content',\n",
              "                                 lowercase=True, max_df=0.8, max_features=None,\n",
              "                                 min_df=8, ngram_range=(1, 1), norm='l2',\n",
              "                                 preprocessor=None, smooth_idf=True,\n",
              "                                 stop_words=None, strip_accents=None,\n",
              "                                 sublinear_tf=False,\n",
              "                                 token_pattern='(?u)\\\\b\\\\w\\\\w+\\\\b',\n",
              "                                 tokenizer=None, use_idf=True,\n",
              "                                 vocabulary=None)),\n",
              "                ('regressor',\n",
              "                 LinearRegression(copy_X=True, fit_intercept=True, n_jobs=None,\n",
              "                                  normalize=False))],\n",
              "         verbose=False)"
            ]
          },
          "metadata": {
            "tags": []
          },
          "execution_count": 24
        }
      ]
    },
    {
      "cell_type": "code",
      "metadata": {
        "id": "LsuaUUqcrq37"
      },
      "source": [
        "test_pred_text=pipe_title.predict(X_test)"
      ],
      "execution_count": 25,
      "outputs": []
    },
    {
      "cell_type": "code",
      "metadata": {
        "colab": {
          "base_uri": "https://localhost:8080/"
        },
        "id": "XQKTcsourtp0",
        "outputId": "74ecc60b-e805-4e17-ae14-d7b2cd8cfd36"
      },
      "source": [
        "print_metrics(Y_test,test_pred_text)"
      ],
      "execution_count": 26,
      "outputs": [
        {
          "output_type": "stream",
          "text": [
            "MSE is 29149.577414493466\n",
            "RMSE is 170.73247322783521\n",
            "r2 score is -0.027885464104569158\n",
            "MAE is 48.84907695539932\n",
            "MAPE is inf\n"
          ],
          "name": "stdout"
        }
      ]
    },
    {
      "cell_type": "markdown",
      "metadata": {
        "id": "lu5X7qr7sAJG"
      },
      "source": [
        "# **On GooglePlus**"
      ]
    },
    {
      "cell_type": "code",
      "metadata": {
        "id": "t_5Q6W1lsLr0"
      },
      "source": [
        "X=news_df['token_text']\r\n",
        "Y=news_df['GooglePlus']\r\n",
        "\r\n",
        "X_train,X_test,Y_train,Y_test=train_test_split(X,Y,test_size=0.2)"
      ],
      "execution_count": 27,
      "outputs": []
    },
    {
      "cell_type": "code",
      "metadata": {
        "colab": {
          "base_uri": "https://localhost:8080/"
        },
        "id": "0bKjvWAYsLr1",
        "outputId": "f356264a-7d07-4347-d140-80c2d7abbf44"
      },
      "source": [
        "model=LinearRegression()\r\n",
        "pipe_title = Pipeline([('vectorizer', vector),\r\n",
        "                     ('regressor', model)])\r\n",
        "pipe_title.fit(X_train,Y_train)"
      ],
      "execution_count": 28,
      "outputs": [
        {
          "output_type": "execute_result",
          "data": {
            "text/plain": [
              "Pipeline(memory=None,\n",
              "         steps=[('vectorizer',\n",
              "                 TfidfVectorizer(analyzer='word', binary=False,\n",
              "                                 decode_error='strict',\n",
              "                                 dtype=<class 'numpy.float64'>,\n",
              "                                 encoding='utf-8', input='content',\n",
              "                                 lowercase=True, max_df=0.8, max_features=None,\n",
              "                                 min_df=8, ngram_range=(1, 1), norm='l2',\n",
              "                                 preprocessor=None, smooth_idf=True,\n",
              "                                 stop_words=None, strip_accents=None,\n",
              "                                 sublinear_tf=False,\n",
              "                                 token_pattern='(?u)\\\\b\\\\w\\\\w+\\\\b',\n",
              "                                 tokenizer=None, use_idf=True,\n",
              "                                 vocabulary=None)),\n",
              "                ('regressor',\n",
              "                 LinearRegression(copy_X=True, fit_intercept=True, n_jobs=None,\n",
              "                                  normalize=False))],\n",
              "         verbose=False)"
            ]
          },
          "metadata": {
            "tags": []
          },
          "execution_count": 28
        }
      ]
    },
    {
      "cell_type": "code",
      "metadata": {
        "id": "oF3PGxCSsLr3"
      },
      "source": [
        "test_pred_text=pipe_title.predict(X_test)"
      ],
      "execution_count": 29,
      "outputs": []
    },
    {
      "cell_type": "code",
      "metadata": {
        "colab": {
          "base_uri": "https://localhost:8080/"
        },
        "id": "yLuH6o--sLr4",
        "outputId": "b4911674-72fc-4670-fd13-b12aa6412003"
      },
      "source": [
        "print_metrics(Y_test,test_pred_text)"
      ],
      "execution_count": 30,
      "outputs": [
        {
          "output_type": "stream",
          "text": [
            "MSE is 495.39768647323484\n",
            "RMSE is 22.25753100577948\n",
            "r2 score is -0.1386350988502787\n",
            "MAE is 8.664402565122636\n",
            "MAPE is inf\n"
          ],
          "name": "stdout"
        }
      ]
    },
    {
      "cell_type": "markdown",
      "metadata": {
        "id": "BTxMr4vTwehc"
      },
      "source": [
        "# **By using spacy library**"
      ]
    },
    {
      "cell_type": "code",
      "metadata": {
        "id": "8CpuR_sSwtbj"
      },
      "source": [
        "nlp = English()"
      ],
      "execution_count": 31,
      "outputs": []
    },
    {
      "cell_type": "code",
      "metadata": {
        "id": "QCKxA5r6wvWV"
      },
      "source": [
        "def spacy_tokenizer(sentence):\r\n",
        "    mytokens = nlp(sentence)\r\n",
        "\r\n",
        "    mytokens = [ word.lemma_.lower().strip() if word.lemma_ != \"-PRON-\" else word.lower_ for word in mytokens ]\r\n",
        "\r\n",
        "    mytokens = [ word for word in mytokens if word not in STOP_WORDS and word not in string.punctuation ]\r\n",
        "\r\n",
        "    return ' '.join(mytokens)"
      ],
      "execution_count": 32,
      "outputs": []
    },
    {
      "cell_type": "code",
      "metadata": {
        "id": "WK7C2QCzw441"
      },
      "source": [
        "news_df['Spacy_token']=news_df['Text'].apply(spacy_tokenizer)"
      ],
      "execution_count": 33,
      "outputs": []
    },
    {
      "cell_type": "markdown",
      "metadata": {
        "id": "vilRDWbDyOKK"
      },
      "source": [
        "# **On Facebook** "
      ]
    },
    {
      "cell_type": "markdown",
      "metadata": {
        "id": "3iRJPcX0yYqu"
      },
      "source": [
        "# **Random Forest model**"
      ]
    },
    {
      "cell_type": "code",
      "metadata": {
        "id": "sCqdj87IyOKM"
      },
      "source": [
        "X=news_df['Spacy_token']\r\n",
        "Y=news_df['Facebook']\r\n",
        "\r\n",
        "X_train,X_test,Y_train,Y_test=train_test_split(X,Y,test_size=0.2)"
      ],
      "execution_count": 34,
      "outputs": []
    },
    {
      "cell_type": "code",
      "metadata": {
        "id": "csyOodWuyOKN"
      },
      "source": [
        "vector=TfidfVectorizer(max_df = 0.9,min_df = 9)"
      ],
      "execution_count": 35,
      "outputs": []
    },
    {
      "cell_type": "code",
      "metadata": {
        "id": "ULhduJIiyOKO",
        "colab": {
          "base_uri": "https://localhost:8080/"
        },
        "outputId": "bd048d8d-eaa7-49c7-fe80-e82fd70521a8"
      },
      "source": [
        "model=RandomForestRegressor(n_estimators=50,max_depth=None,random_state=0)\r\n",
        "pipe_title = Pipeline([('vectorizer', vector),\r\n",
        "                     ('regressor', model)])\r\n",
        "pipe_title.fit(X_train,Y_train)"
      ],
      "execution_count": 36,
      "outputs": [
        {
          "output_type": "execute_result",
          "data": {
            "text/plain": [
              "Pipeline(memory=None,\n",
              "         steps=[('vectorizer',\n",
              "                 TfidfVectorizer(analyzer='word', binary=False,\n",
              "                                 decode_error='strict',\n",
              "                                 dtype=<class 'numpy.float64'>,\n",
              "                                 encoding='utf-8', input='content',\n",
              "                                 lowercase=True, max_df=0.9, max_features=None,\n",
              "                                 min_df=9, ngram_range=(1, 1), norm='l2',\n",
              "                                 preprocessor=None, smooth_idf=True,\n",
              "                                 stop_words=None, strip_accents=None,\n",
              "                                 sublinear_tf=False,\n",
              "                                 token_patt...\n",
              "                 RandomForestRegressor(bootstrap=True, ccp_alpha=0.0,\n",
              "                                       criterion='mse', max_depth=None,\n",
              "                                       max_features='auto', max_leaf_nodes=None,\n",
              "                                       max_samples=None,\n",
              "                                       min_impurity_decrease=0.0,\n",
              "                                       min_impurity_split=None,\n",
              "                                       min_samples_leaf=1, min_samples_split=2,\n",
              "                                       min_weight_fraction_leaf=0.0,\n",
              "                                       n_estimators=50, n_jobs=None,\n",
              "                                       oob_score=False, random_state=0,\n",
              "                                       verbose=0, warm_start=False))],\n",
              "         verbose=False)"
            ]
          },
          "metadata": {
            "tags": []
          },
          "execution_count": 36
        }
      ]
    },
    {
      "cell_type": "code",
      "metadata": {
        "id": "2dgbqR53yOKQ"
      },
      "source": [
        "test_pred_text=pipe_title.predict(X_test)"
      ],
      "execution_count": 39,
      "outputs": []
    },
    {
      "cell_type": "code",
      "metadata": {
        "colab": {
          "base_uri": "https://localhost:8080/"
        },
        "id": "6ZLQUhHHyOKR",
        "outputId": "ebc8bc57-8457-4c37-cdda-628bb5d026be"
      },
      "source": [
        "print_metrics(Y_test,test_pred_text)"
      ],
      "execution_count": 40,
      "outputs": [
        {
          "output_type": "stream",
          "text": [
            "MSE is 538674.1923775814\n",
            "RMSE is 733.9442706211292\n",
            "r2 score is 0.015130753873194513\n",
            "MAE is 158.22328344744986\n",
            "MAPE is inf\n"
          ],
          "name": "stdout"
        }
      ]
    },
    {
      "cell_type": "markdown",
      "metadata": {
        "id": "F2RsDBhW08Dz"
      },
      "source": [
        "U"
      ]
    },
    {
      "cell_type": "markdown",
      "metadata": {
        "id": "soMLyheM0518"
      },
      "source": [
        ""
      ]
    },
    {
      "cell_type": "markdown",
      "metadata": {
        "id": "9jgWlEU9shJm"
      },
      "source": [
        "# **Vectorizer**"
      ]
    },
    {
      "cell_type": "code",
      "metadata": {
        "id": "GVv-587tfibN"
      },
      "source": [
        "\r\n",
        "\r\n",
        "tittle_vector=vectorize.fit_transform(news_df['token_text'])"
      ],
      "execution_count": null,
      "outputs": []
    },
    {
      "cell_type": "code",
      "metadata": {
        "id": "pw3VahrtfrV7"
      },
      "source": [
        "vectorize=TfidfVectorizer(max_df = 0.9,min_df = 10)\r\n",
        "\r\n",
        "headline_vector=vectorize.fit_transform(news_df['tokenize_headline'])"
      ],
      "execution_count": null,
      "outputs": []
    },
    {
      "cell_type": "code",
      "metadata": {
        "id": "00fJNHNAEGlD"
      },
      "source": [
        "\r\n",
        "import numpy as np\r\n",
        "import pandas as pd\r\n",
        "import csv\r\n",
        "from datetime import datetime\r\n",
        "import sklearn\r\n",
        "from sklearn.linear_model import LinearRegression\r\n",
        "from sklearn.linear_model import Ridge\r\n",
        "from sklearn.linear_model import RidgeCV\r\n",
        "from sklearn import linear_model\r\n",
        "from sklearn.ensemble import RandomForestRegressor\r\n",
        "from sklearn.datasets import make_regression\r\n",
        "from sklearn.decomposition import PCA as sklearnPCA\r\n",
        "from sklearn.preprocessing import StandardScaler\r\n",
        "import matplotlib.pyplot as plt\r\n",
        "def parsedata(filename):\r\n",
        "    articles = {}\r\n",
        "\r\n",
        "    with open(filename, 'r') as csvfile:\r\n",
        "        ifile = csv.reader(csvfile)\r\n",
        "        next(ifile, None) #skip header\r\n",
        "        for line in ifile:\r\n",
        "            instance = []\r\n",
        "            flag = False\r\n",
        "            for val in line:\r\n",
        "                if flag:\r\n",
        "                    instance.append(val)\r\n",
        "                else:\r\n",
        "                    id_link = val\r\n",
        "                    flag = True\r\n",
        "            articles[id_link] = instance\r\n",
        "            \r\n",
        "    return articles\r\n",
        "\r\n"
      ],
      "execution_count": null,
      "outputs": []
    },
    {
      "cell_type": "code",
      "metadata": {
        "id": "K3dq2fOeJuFC"
      },
      "source": [
        "def organize_topics(articles):\r\n",
        "    topics = {'economy': [], 'microsoft': [], 'obama': [], 'palestine': []}\r\n",
        "\r\n",
        "    for i in articles:\r\n",
        "        if articles[i][3] == 'economy':\r\n",
        "            topics['economy'].append(i)\r\n",
        "        elif articles[i][3] == 'microsoft':\r\n",
        "            topics['microsoft'].append(i)\r\n",
        "        elif articles[i][3] == 'obama':\r\n",
        "            topics['obama'].append(i)\r\n",
        "        else:\r\n",
        "            topics['palestine'].append(i)\r\n",
        "\r\n",
        "    return topics\r\n",
        "\r\n"
      ],
      "execution_count": null,
      "outputs": []
    },
    {
      "cell_type": "code",
      "metadata": {
        "id": "gKNyMkWiJ2SC"
      },
      "source": [
        "def replace_NegOnes(articles, topics):\r\n",
        "    econ_avg_fb, econ_avg_gp, econ_avg_li = get_avg_pop(articles, topics, 'economy')\r\n",
        "    micro_avg_fb, micro_avg_gp, micro_avg_li = get_avg_pop(articles, topics, 'microsoft')\r\n",
        "    obama_avg_fb, obama_avg_gp, obama_avg_li = get_avg_pop(articles, topics, 'obama')\r\n",
        "    pal_avg_fb, pal_avg_gp, pal_avg_li = get_avg_pop(articles, topics, 'palestine')\r\n",
        "\r\n",
        "    for i in articles:\r\n",
        "        if articles[i][3] == 'economy':\r\n",
        "            if float(articles[i][7]) == -1.:\r\n",
        "                articles[i][7] = econ_avg_fb\r\n",
        "            if float(articles[i][8]) == -1.:\r\n",
        "                articles[i][8] = econ_avg_gp\r\n",
        "            if float(articles[i][9]) == -1.:\r\n",
        "                articles[i][9] = econ_avg_li\r\n",
        "        elif articles[i][3] == 'microsoft':\r\n",
        "            if float(articles[i][7]) == -1.:\r\n",
        "                articles[i][7] = micro_avg_fb\r\n",
        "            if float(articles[i][8]) == -1.:\r\n",
        "                articles[i][8] = micro_avg_gp\r\n",
        "            if float(articles[i][9]) == -1.:\r\n",
        "                articles[i][9] = micro_avg_li\r\n",
        "        elif articles[i][3] == 'obama':\r\n",
        "            if float(articles[i][7]) == -1.:\r\n",
        "                articles[i][7] = obama_avg_fb\r\n",
        "            if float(articles[i][8]) == -1.:\r\n",
        "                articles[i][8] = obama_avg_gp\r\n",
        "            if float(articles[i][9]) == -1.:\r\n",
        "                articles[i][9] = obama_avg_li\r\n",
        "        else:\r\n",
        "            if float(articles[i][7]) == -1.:\r\n",
        "                articles[i][7] = pal_avg_fb\r\n",
        "            if float(articles[i][8]) == -1.:\r\n",
        "                articles[i][8] = pal_avg_gp\r\n",
        "            if float(articles[i][9]) == -1.:\r\n",
        "                articles[i][9] = pal_avg_li\r\n",
        "    return articles\r\n",
        "\r\n"
      ],
      "execution_count": null,
      "outputs": []
    },
    {
      "cell_type": "code",
      "metadata": {
        "id": "PGOHFVR5iRPF"
      },
      "source": [
        "rated_dummies = pd.get_dummies(news_df['Topic'])\r\n",
        "news_df=pd.concat([news_df, rated_dummies], axis=1)"
      ],
      "execution_count": null,
      "outputs": []
    },
    {
      "cell_type": "code",
      "metadata": {
        "id": "E8DZGj_FKBhD"
      },
      "source": [
        "def get_avg_pop(articles, topics_dict, topic):\r\n",
        "    sum_fb = 0\r\n",
        "    sum_gp = 0\r\n",
        "    sum_li = 0\r\n",
        "    count_fb = 0\r\n",
        "    count_gp = 0\r\n",
        "    count_li = 0\r\n",
        "\r\n",
        "    for i in topics_dict[topic]:\r\n",
        "        if float(articles[i][7]) != -1.:\r\n",
        "            sum_fb += float(articles[i][7])\r\n",
        "            count_fb += 1.\r\n",
        "        if float(articles[i][8]) != -1.:\r\n",
        "            sum_gp += float(articles[i][8])\r\n",
        "            count_gp += 1.\r\n",
        "        if float(articles[i][9]) != -1.:\r\n",
        "            sum_li += float(articles[i][9])\r\n",
        "            count_li += 1.\r\n",
        "    avg_fb = sum_fb/count_fb\r\n",
        "    avg_gp = sum_gp/count_gp\r\n",
        "    avg_li = sum_li/count_li\r\n",
        "\r\n",
        "    return avg_fb, avg_gp, avg_li\r\n",
        "\r\n",
        "def add_seconds_from_date(articles):\r\n",
        "    start_date = '1970-01-01 '\r\n",
        "    for i in articles:\r\n",
        "        date = articles[i][4].split(\" \")\r\n",
        "        date = start_date + date[1]\r\n",
        "        articles[i][4] = get_seconds(date)\r\n",
        "\r\n",
        "    return articles\r\n",
        "\r\n",
        "def get_seconds(date):\r\n",
        "    datetime_object = datetime.strptime(date, '%Y-%m-%d %H:%M:%S')\r\n",
        "    return datetime_object.timestamp() - 28800.\r\n",
        "\r\n",
        "def create_dataframe(articles):\r\n",
        "    data_init = []\r\n",
        "    for i in articles:\r\n",
        "        temp = []\r\n",
        "        fcount = 0\r\n",
        "        for val in articles[i]:\r\n",
        "            if fcount in (0, 1, 2):\r\n",
        "                fcount += 1\r\n",
        "                continue\r\n",
        "            elif fcount == 3:\r\n",
        "                if val == \"economy\":\r\n",
        "                    temp.append(1)\r\n",
        "                    temp.append(0)\r\n",
        "                    temp.append(0)\r\n",
        "                    temp.append(0)\r\n",
        "                elif val == \"microsoft\":\r\n",
        "                    temp.append(0)\r\n",
        "                    temp.append(1)\r\n",
        "                    temp.append(0)\r\n",
        "                    temp.append(0)\r\n",
        "                elif val == \"obama\":\r\n",
        "                    temp.append(0)\r\n",
        "                    temp.append(0)\r\n",
        "                    temp.append(1)\r\n",
        "                    temp.append(0)\r\n",
        "                else:\r\n",
        "                    temp.append(0)\r\n",
        "                    temp.append(0)\r\n",
        "                    temp.append(0)\r\n",
        "                    temp.append(1)\r\n",
        "            else:\r\n",
        "                temp.append(float(val))\r\n",
        "            fcount += 1\r\n",
        "        data_init.append(temp)\r\n",
        "\r\n",
        "    data = pd.DataFrame(np.matrix(data_init))\r\n",
        "    data.columns = ['Economy', 'Microsoft', 'Obama', 'Palestine', 'Time (s)', 'SentimentTitle', 'SentimentHeadline', 'Facebook', 'GooglePlus', 'LinkedIn']\r\n",
        "\r\n",
        "    return data\r\n"
      ],
      "execution_count": null,
      "outputs": []
    },
    {
      "cell_type": "code",
      "metadata": {
        "id": "_7-2QHuWKFdb"
      },
      "source": [
        "articles = parsedata('/content/drive/MyDrive/Almabetter/Cohort Aravali/Module 4/Capstone-3 /Copy of News_Final.csv')\r\n",
        "topics = organize_topics(articles)\r\n",
        "articles2 = replace_NegOnes(articles, topics)\r\n",
        "articles3 = add_seconds_from_date(articles2)\r\n",
        "data = create_dataframe(articles)"
      ],
      "execution_count": null,
      "outputs": []
    },
    {
      "cell_type": "code",
      "metadata": {
        "colab": {
          "base_uri": "https://localhost:8080/",
          "height": 204
        },
        "id": "xgqpujY-ENme",
        "outputId": "bb1b9422-9a64-4be0-f801-a694cf03cd84"
      },
      "source": [
        "data.head()"
      ],
      "execution_count": null,
      "outputs": [
        {
          "output_type": "execute_result",
          "data": {
            "text/html": [
              "<div>\n",
              "<style scoped>\n",
              "    .dataframe tbody tr th:only-of-type {\n",
              "        vertical-align: middle;\n",
              "    }\n",
              "\n",
              "    .dataframe tbody tr th {\n",
              "        vertical-align: top;\n",
              "    }\n",
              "\n",
              "    .dataframe thead th {\n",
              "        text-align: right;\n",
              "    }\n",
              "</style>\n",
              "<table border=\"1\" class=\"dataframe\">\n",
              "  <thead>\n",
              "    <tr style=\"text-align: right;\">\n",
              "      <th></th>\n",
              "      <th>Economy</th>\n",
              "      <th>Microsoft</th>\n",
              "      <th>Obama</th>\n",
              "      <th>Palestine</th>\n",
              "      <th>Time (s)</th>\n",
              "      <th>SentimentTitle</th>\n",
              "      <th>SentimentHeadline</th>\n",
              "      <th>Facebook</th>\n",
              "      <th>GooglePlus</th>\n",
              "      <th>LinkedIn</th>\n",
              "    </tr>\n",
              "  </thead>\n",
              "  <tbody>\n",
              "    <tr>\n",
              "      <th>0</th>\n",
              "      <td>0.0</td>\n",
              "      <td>0.0</td>\n",
              "      <td>1.0</td>\n",
              "      <td>0.0</td>\n",
              "      <td>-28800.0</td>\n",
              "      <td>0.000000</td>\n",
              "      <td>-0.053300</td>\n",
              "      <td>304.035623</td>\n",
              "      <td>7.227951</td>\n",
              "      <td>8.724642</td>\n",
              "    </tr>\n",
              "    <tr>\n",
              "      <th>1</th>\n",
              "      <td>1.0</td>\n",
              "      <td>0.0</td>\n",
              "      <td>0.0</td>\n",
              "      <td>0.0</td>\n",
              "      <td>-28800.0</td>\n",
              "      <td>0.208333</td>\n",
              "      <td>-0.156386</td>\n",
              "      <td>46.230544</td>\n",
              "      <td>1.779149</td>\n",
              "      <td>16.978678</td>\n",
              "    </tr>\n",
              "    <tr>\n",
              "      <th>2</th>\n",
              "      <td>1.0</td>\n",
              "      <td>0.0</td>\n",
              "      <td>0.0</td>\n",
              "      <td>0.0</td>\n",
              "      <td>-28800.0</td>\n",
              "      <td>-0.425210</td>\n",
              "      <td>0.139754</td>\n",
              "      <td>46.230544</td>\n",
              "      <td>1.779149</td>\n",
              "      <td>16.978678</td>\n",
              "    </tr>\n",
              "    <tr>\n",
              "      <th>3</th>\n",
              "      <td>1.0</td>\n",
              "      <td>0.0</td>\n",
              "      <td>0.0</td>\n",
              "      <td>0.0</td>\n",
              "      <td>-28440.0</td>\n",
              "      <td>0.000000</td>\n",
              "      <td>0.026064</td>\n",
              "      <td>46.230544</td>\n",
              "      <td>1.779149</td>\n",
              "      <td>16.978678</td>\n",
              "    </tr>\n",
              "    <tr>\n",
              "      <th>4</th>\n",
              "      <td>1.0</td>\n",
              "      <td>0.0</td>\n",
              "      <td>0.0</td>\n",
              "      <td>0.0</td>\n",
              "      <td>-28140.0</td>\n",
              "      <td>0.000000</td>\n",
              "      <td>0.141084</td>\n",
              "      <td>46.230544</td>\n",
              "      <td>1.779149</td>\n",
              "      <td>16.978678</td>\n",
              "    </tr>\n",
              "  </tbody>\n",
              "</table>\n",
              "</div>"
            ],
            "text/plain": [
              "   Economy  Microsoft  Obama  ...    Facebook  GooglePlus   LinkedIn\n",
              "0      0.0        0.0    1.0  ...  304.035623    7.227951   8.724642\n",
              "1      1.0        0.0    0.0  ...   46.230544    1.779149  16.978678\n",
              "2      1.0        0.0    0.0  ...   46.230544    1.779149  16.978678\n",
              "3      1.0        0.0    0.0  ...   46.230544    1.779149  16.978678\n",
              "4      1.0        0.0    0.0  ...   46.230544    1.779149  16.978678\n",
              "\n",
              "[5 rows x 10 columns]"
            ]
          },
          "metadata": {
            "tags": []
          },
          "execution_count": 82
        }
      ]
    }
  ]
}